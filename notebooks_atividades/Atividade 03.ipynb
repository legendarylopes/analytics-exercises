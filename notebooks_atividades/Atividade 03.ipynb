{
 "cells": [
  {
   "attachments": {},
   "cell_type": "markdown",
   "id": "ebfbea4e",
   "metadata": {},
   "source": [
    "# Atividade 3\n",
    "\n",
    "Faça tudo via dbt. \n",
    "\n",
    "Envia como resposta:\n",
    "- A query SQL\n",
    "- Comando utilizado via terminal no `dbt`\n",
    "- Um print do resultado no próprio notebook, para isso é necessário criar uma pasta no repositório onde serão armazenadas as imagens, e para inserir no notebook é necessário criar uma célula `markdown` e inserir o seguinte comando: \n",
    "\n",
    "```markdown\n",
    "![Nome da Foto](path/para/imagem)\n",
    "```"
   ]
  },
  {
   "attachments": {},
   "cell_type": "markdown",
   "id": "c0c42967",
   "metadata": {},
   "source": [
    "1. Crie uma tabela `orders_by_year` a partir de `orders` que agrupa a quantidade de pedidos por ano, considerando a coluna `order_approved_at`"
   ]
  },
  {
   "cell_type": "markdown",
   "id": "c68ae4c4",
   "metadata": {},
   "source": [
    "```\n",
    "  {{ config(materialized='table') }}\n",
    "\n",
    "SELECT \n",
    "  count (*) as order_count, \n",
    "  EXTRACT(\n",
    "    YEAR \n",
    "    FROM \n",
    "      order_approved_at\n",
    "  ) as year \n",
    "FROM \n",
    "  `dbt-shop-thiagol.dbt_shop.orders` \n",
    "group by \n",
    "  EXTRACT(\n",
    "    YEAR \n",
    "    FROM \n",
    "      order_approved_at\n",
    "  )\n",
    "  ```"
   ]
  },
  {
   "attachments": {},
   "cell_type": "markdown",
   "id": "64d8d389",
   "metadata": {},
   "source": [
    "``dbt run --models shop.orders_by_year``\n",
    "\n"
   ]
  },
  {
   "attachments": {},
   "cell_type": "markdown",
   "id": "5d191dc7",
   "metadata": {},
   "source": [
    "![exec1](../dados/atividade3/exec1.PNG)"
   ]
  },
  {
   "attachments": {},
   "cell_type": "markdown",
   "id": "aa520524",
   "metadata": {},
   "source": [
    "2. Crie uma `view` que agrega os totais de pedidos por estado. Considere as tabelas _customers_ para obter os estados (coluna _customer_state_) e _orders_ para contabilizar a quantidade de pedidos."
   ]
  },
  {
   "cell_type": "markdown",
   "id": "90e49193",
   "metadata": {},
   "source": [
    "```\n",
    "  {{ config(materialized='view') }}\n",
    "select \n",
    "  count(*) as total_pedido, \n",
    "  cust.customer_state as Estado \n",
    "from \n",
    "  `dbt_shop.customers` cust \n",
    "  inner join `dbt_shop.orders` order_itens on cust.customer_id = order_itens.customer_id \n",
    "group by \n",
    "  cust.customer_state\n",
    "```"
   ]
  },
  {
   "attachments": {},
   "cell_type": "markdown",
   "id": "ef0f825d",
   "metadata": {},
   "source": [
    "`` dbt run --models shop.total_order_state ``"
   ]
  },
  {
   "attachments": {},
   "cell_type": "markdown",
   "id": "7b337e3b",
   "metadata": {},
   "source": [
    "![exec2](../dados/atividade3/exec2.PNG)"
   ]
  },
  {
   "attachments": {},
   "cell_type": "markdown",
   "id": "54e0e5f1",
   "metadata": {},
   "source": [
    "3. De acordo com o resultado do exercício 2 retorne apenas os estados que tem mais de 5000 pedidos, esse número deve ser passado via variável `number_of_orders` do `dbt`."
   ]
  },
  {
   "cell_type": "markdown",
   "id": "b363acc7",
   "metadata": {},
   "source": [
    "  ```\n",
    "  {{ config(materialized='view') }}\n",
    "SELECT \n",
    "  * \n",
    "FROM \n",
    "  `dbt-shop-thiagol.dataset_thiagolopes.total_order_state` \n",
    "where \n",
    "total_pedido > {{ var(\"number_of_orders\") }}\n",
    "```"
   ]
  },
  {
   "cell_type": "markdown",
   "id": "03f9b37d",
   "metadata": {},
   "source": [
    "``dbt run --models shop.query_number_of_orders --vars \"{'number_of_orders': 5000}\"``"
   ]
  },
  {
   "attachments": {},
   "cell_type": "markdown",
   "id": "4796bf89",
   "metadata": {},
   "source": [
    "![exec3](../dados/atividade3/exec3.PNG)"
   ]
  },
  {
   "attachments": {},
   "cell_type": "markdown",
   "id": "9c3ad0cc",
   "metadata": {},
   "source": [
    "4. Crie uma `view` chamada `customers_by_region` que utiliza os dados da tabela `customers`. A visão deve realizar uma agregação por região do Brasil (Norte, Nordeste, Sudeste, Centro Oeste e Sul) e contar o número de clientes em cada uma delas."
   ]
  },
  {
   "cell_type": "markdown",
   "id": "ce486290",
   "metadata": {},
   "source": [
    "  ```\n",
    "\n",
    "SELECT COUNT(*) AS CUSTOMERS,\n",
    " CASE customer_state \n",
    " WHEN 'RN' THEN 'NORDESTE'\n",
    " WHEN 'CE' THEN 'NORDESTE'\n",
    " WHEN 'RS' THEN 'SUL'\n",
    " WHEN 'SC' THEN 'SUL'\n",
    " WHEN 'SP' THEN 'SUDESTE'\n",
    " WHEN 'MG' THEN 'SUDESTE'\n",
    " WHEN 'BA' THEN 'NORDESTE'\n",
    " WHEN 'RJ' THEN 'SUDESTE'\n",
    " WHEN 'GO' THEN 'CENTRO OESTE'\n",
    " WHEN 'MA' THEN 'NORDESTE'\n",
    " WHEN 'PE' THEN 'NORDESTE'\n",
    " WHEN 'PB' THEN 'NORDESTE'\n",
    " WHEN 'ES' THEN 'SUDESTE'\n",
    " WHEN 'PR' THEN 'SUL'\n",
    " WHEN 'RO' THEN 'NORTE'\n",
    " WHEN 'MS' THEN 'CENTRO OESTE'\n",
    " WHEN 'PA' THEN 'NORTE'\n",
    " WHEN 'TO' THEN 'NORTE'\n",
    " WHEN 'MT' THEN 'CENTRO OESTE'\n",
    " WHEN 'PI' THEN 'NORTE'\n",
    " WHEN 'AL' THEN 'NORDESTE'\n",
    " WHEN 'AM' THEN 'NORTE'\n",
    " WHEN 'DF' THEN 'CENTRO OESTE'\n",
    " WHEN 'SE' THEN 'NORDESTE'\n",
    " WHEN 'RR' THEN 'NORTE'\n",
    " WHEN 'AP' THEN 'NORTE'\n",
    " WHEN 'AC' THEN 'NORTE' \n",
    " END AS REGION  \n",
    "FROM `dbt-shop-thiagol.dbt_shop.customers` \n",
    "GROUP BY REGION\n",
    "  ```"
   ]
  },
  {
   "cell_type": "markdown",
   "id": "a88588b1",
   "metadata": {},
   "source": [
    "``dbt run --models shop.customers_by_region``"
   ]
  },
  {
   "attachments": {},
   "cell_type": "markdown",
   "id": "b7a011f5",
   "metadata": {},
   "source": [
    "![exec4](../dados/atividade3/exec4.PNG)"
   ]
  },
  {
   "attachments": {},
   "cell_type": "markdown",
   "id": "d4c16290",
   "metadata": {},
   "source": [
    "5. Crie uma tabela `items_costs` que contenha o preço total de um item (soma do valor do produto com o frete)."
   ]
  },
  {
   "attachments": {},
   "cell_type": "markdown",
   "id": "0afe4a31",
   "metadata": {},
   "source": [
    "```\n",
    "  {{ config(materialized='table') }}\n",
    "select \n",
    "  iten.order_id, \n",
    "  iten.product_id, \n",
    "  iten.seller_id, \n",
    "  iten.order_item_id, \n",
    "  iten.shipping_limit_date, \n",
    "  (iten.price + iten.freight_value) as Iten_cost \n",
    "from \n",
    "  `dbt_shop.itens` iten\n",
    "  ```"
   ]
  },
  {
   "cell_type": "markdown",
   "id": "575be03c",
   "metadata": {},
   "source": [
    "``dbt run --models shop.itens_cost``"
   ]
  },
  {
   "attachments": {},
   "cell_type": "markdown",
   "id": "c85bed22",
   "metadata": {},
   "source": [
    "![exec5](../dados/atividade3/exec5.PNG)"
   ]
  },
  {
   "attachments": {},
   "cell_type": "markdown",
   "id": "08cc4c02",
   "metadata": {},
   "source": [
    "6. Crie uma `view` com o nome `orders_shipped_costs`, você deve calcular o preço total do pedido somado com o frete, apenas para pedidos enviado (shipped)."
   ]
  },
  {
   "cell_type": "markdown",
   "id": "f3519e04",
   "metadata": {},
   "source": [
    "```\n",
    "SELECT \n",
    "  ordem.order_id, \n",
    "  ordem.order_status, \n",
    "  sum(\n",
    "    (iten.price + iten.freight_value)\n",
    "  ) as iten_Cost \n",
    "FROM \n",
    "  `dbt-shop-thiagol.dbt_shop.orders` ordem \n",
    "  inner join `dbt-shop-thiagol.dbt_shop.itens` iten on iten.order_id = ordem.order_id \n",
    "group by \n",
    "  ordem.order_id, \n",
    "  ordem.order_status \n",
    "having \n",
    "  ordem.order_status = 'shipped'\n",
    "  ```"
   ]
  },
  {
   "attachments": {},
   "cell_type": "markdown",
   "id": "62e68c61",
   "metadata": {},
   "source": [
    "``dbt run --models shop.orders_shipped_costs ``"
   ]
  },
  {
   "attachments": {},
   "cell_type": "markdown",
   "id": "99f4d9cd",
   "metadata": {},
   "source": [
    "![exec6](../dados/atividade3/exec6.PNG)"
   ]
  },
  {
   "cell_type": "markdown",
   "id": "14be9b2e",
   "metadata": {},
   "source": []
  }
 ],
 "metadata": {
  "kernelspec": {
   "display_name": "Python 3",
   "language": "python",
   "name": "python3"
  },
  "language_info": {
   "codemirror_mode": {
    "name": "ipython",
    "version": 3
   },
   "file_extension": ".py",
   "mimetype": "text/x-python",
   "name": "python",
   "nbconvert_exporter": "python",
   "pygments_lexer": "ipython3",
   "version": "3.9.1"
  }
 },
 "nbformat": 4,
 "nbformat_minor": 5
}
